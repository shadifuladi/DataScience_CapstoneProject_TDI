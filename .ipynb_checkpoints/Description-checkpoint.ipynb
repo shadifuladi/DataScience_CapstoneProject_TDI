{
 "cells": [
  {
   "cell_type": "markdown",
   "metadata": {},
   "source": [
    "## Sentiment Analysis of Text Messages"
   ]
  },
  {
   "cell_type": "markdown",
   "metadata": {},
   "source": [
    "The data includes 180K observation and the following information: \n",
    "* **Channel ID**, assigned to each chat message initiated coresponding to a listing. \n",
    "\n",
    "* **Creation time stamp** corresponding to each sent message.\n",
    "\n",
    "* **Users ID** (the applicants and residents) sending a message. \n",
    "\n",
    "* The role of each **user** (applicant or resident). \n",
    "\n",
    "* The **lease status** corresponding to the message channel initiated for each listing.\n",
    "\n",
    "* **Market** as in the city where the listing is located. \n",
    "\n",
    "* And finally, the **messages**."
   ]
  },
  {
   "cell_type": "markdown",
   "metadata": {},
   "source": [
    "### Exploratory Analysis\n",
    "\n",
    "The data set\n",
    "<img src=\"images/message_per_month.png\"/>\n",
    "<img src=\"images/engagement.png\"/>\n",
    "\n"
   ]
  },
  {
   "cell_type": "markdown",
   "metadata": {},
   "source": [
    "### Preprocessing and Feature Engineering"
   ]
  },
  {
   "cell_type": "markdown",
   "metadata": {},
   "source": [
    "### Sentiment Analysis"
   ]
  }
 ],
 "metadata": {
  "kernelspec": {
   "display_name": "Python 3",
   "language": "python",
   "name": "python3"
  },
  "language_info": {
   "codemirror_mode": {
    "name": "ipython",
    "version": 3
   },
   "file_extension": ".py",
   "mimetype": "text/x-python",
   "name": "python",
   "nbconvert_exporter": "python",
   "pygments_lexer": "ipython3",
   "version": "3.8.5"
  }
 },
 "nbformat": 4,
 "nbformat_minor": 4
}
