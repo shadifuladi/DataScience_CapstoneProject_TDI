{
 "cells": [
  {
   "cell_type": "code",
   "execution_count": null,
   "metadata": {},
   "outputs": [],
   "source": [
    "import pandas as pd\n",
    "pd.__version__"
   ]
  },
  {
   "cell_type": "markdown",
   "metadata": {},
   "source": [
    "### Data Preprocessing \n",
    "\n",
    "This notebook aims at preprocessing the initial data set, preparing the data for sentiment analysis, and set up features used for machine learning model. In particular:\n",
    "\n",
    "* The response time for each message is quantified, using the time stamps provided for each message. \n",
    "\n",
    "* The text of messages is cleaned up to remove http addresses, new lines, and other notations that are in the text because of ... \n",
    "\n",
    "* The length of conversations is quantified as the number of messages sent. \n",
    "\n",
    "* Messages are numbered based on their order in the conversation."
   ]
  },
  {
   "cell_type": "code",
   "execution_count": null,
   "metadata": {},
   "outputs": [],
   "source": [
    "with open('chat_messages.pkl.gz', \"rb\") as f:\n",
    "    df = pd.read_pickle(f, compression=\"gzip\")"
   ]
  },
  {
   "cell_type": "code",
   "execution_count": null,
   "metadata": {},
   "outputs": [],
   "source": [
    "import dill \n",
    "dill.dump(df, open('df_raw.pkd', 'wb'))\n",
    "#df = dill.load(open('df_raw.pkd', 'rb'))"
   ]
  },
  {
   "cell_type": "markdown",
   "metadata": {},
   "source": [
    "### Response Time"
   ]
  },
  {
   "cell_type": "code",
   "execution_count": null,
   "metadata": {},
   "outputs": [],
   "source": [
    "from sklearn.base import BaseEstimator, TransformerMixin\n",
    "\n",
    "class ResponseTime(BaseEstimator, TransformerMixin):\n",
    "    ''' calculate the response delay time (seconds), \n",
    "    as the time difference b/w when a message is sent\n",
    "    and when a reply is received'''\n",
    "    \n",
    "    def convert_timedelta(self, duration):\n",
    "        days, seconds = duration.days, duration.seconds\n",
    "        hours = seconds // 3600\n",
    "        minutes = (seconds % 3600) // 60\n",
    "        seconds = (seconds % 60)\n",
    "        return tuple(days, hours, minutes, seconds)\n",
    "    \n",
    "    def transformer(self, X):\n",
    "        X['response_time'] = 0\n",
    "        for i in range(1,len(X)):\n",
    "            if X['channel_id'][i-1] == X['channel_id'][i]:\n",
    "                duration_temp = X['created_at'][i] - X['created_at'][i-1]\n",
    "                duration = duration_temp.days*24*60*60 + duration_temp.seconds \n",
    "                X.loc[i, 'response_time'] = duration\n",
    "                \n",
    "            else:\n",
    "                X.loc[i, 'response_time'] = 0\n",
    "        return X"
   ]
  },
  {
   "cell_type": "code",
   "execution_count": null,
   "metadata": {},
   "outputs": [],
   "source": [
    "rt = ResponseTime()\n",
    "rt.transformer(df)"
   ]
  },
  {
   "cell_type": "markdown",
   "metadata": {},
   "source": [
    "### Cleaning Text"
   ]
  },
  {
   "cell_type": "code",
   "execution_count": null,
   "metadata": {},
   "outputs": [],
   "source": [
    "from sklearn.base import BaseEstimator, TransformerMixin\n",
    "import string\n",
    "import re\n",
    "\n",
    "from nltk.corpus import stopwords\n",
    "from nltk.stem import PorterStemmer\n",
    "\n",
    "class CleanText(BaseEstimator, TransformerMixin):\n",
    "    \n",
    "    def remove_punct(self, message):\n",
    "        punct = string.punctuation\n",
    "        trans = str.maketrans(punct, len(punct)*' ')\n",
    "        return message.translate(trans)\n",
    "\n",
    "    def to_lower(self, message):\n",
    "        return message.lower()\n",
    "    \n",
    "    def remove_num(self, message):\n",
    "        return self\n",
    "        \n",
    "    def remove_https(self, message):\n",
    "        message = re.sub(r'((www\\.[\\S]+)|(https?://[\\S]+))', '<URL>', message)\n",
    "        message = re.sub(r'((www\\.[\\S]+)|(https?://[\\S]+))', '', message)\n",
    "\n",
    "        return message\n",
    "    \n",
    "    def remove_spaces(self, message):\n",
    "        message = re.sub(r'▪', ' ', message)\n",
    "        message = re.sub(r'<NUM>', ' ', message)\n",
    "        message = re.sub(r'[\\s]+', ' ', message)\n",
    "        message = re.sub(r'\\+', ' ', message)\n",
    "        message = re.sub(r'\\-', ' ', message)\n",
    "        message = re.sub(r'\\n', ' ', message)\n",
    "        message = re.sub(r'\\r', ' ', message)\n",
    "        \n",
    "        return message\n",
    "    \n",
    "    def fit(self, X, y=None):\n",
    "        return self\n",
    "    \n",
    "    def transform(self, X):\n",
    "        clean_X = (X\n",
    "                   .apply(self.remove_https)\n",
    "                   .apply(self.remove_spaces))\n",
    "        \n",
    "                    \n",
    "        return clean_X"
   ]
  },
  {
   "cell_type": "code",
   "execution_count": null,
   "metadata": {},
   "outputs": [],
   "source": [
    "ct = CleanText()\n",
    "df['clean_message'] = ct.transform(df['message'])"
   ]
  },
  {
   "cell_type": "markdown",
   "metadata": {},
   "source": [
    "### Conversation Length"
   ]
  },
  {
   "cell_type": "code",
   "execution_count": null,
   "metadata": {},
   "outputs": [],
   "source": [
    "df['convo_length'] = df['channel_id'].map(df['channel_id']\n",
    "                                                .value_counts())\n",
    "df['convo_num'] = df.groupby(['channel_id']).cumcount()+1"
   ]
  },
  {
   "cell_type": "code",
   "execution_count": null,
   "metadata": {},
   "outputs": [],
   "source": [
    "dill.dump(df, open('df_preprocessed.pkd', 'wb'))"
   ]
  }
 ],
 "metadata": {
  "kernelspec": {
   "display_name": "Python 3",
   "language": "python",
   "name": "python3"
  },
  "language_info": {
   "codemirror_mode": {
    "name": "ipython",
    "version": 3
   },
   "file_extension": ".py",
   "mimetype": "text/x-python",
   "name": "python",
   "nbconvert_exporter": "python",
   "pygments_lexer": "ipython3",
   "version": "3.8.5"
  }
 },
 "nbformat": 4,
 "nbformat_minor": 4
}
