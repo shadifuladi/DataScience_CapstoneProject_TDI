{
 "cells": [
  {
   "cell_type": "markdown",
   "metadata": {},
   "source": [
    "## <font color='green'> Sentiment Analysis of Text Messages </font>\n"
   ]
  },
  {
   "cell_type": "markdown",
   "metadata": {},
   "source": [
    "The main focus of this project is to explore how the experience of the messaging feature provided for applicants looking for a room and the residents of the household, shapes the decision of the applicants and the residents and affects their decision of applicant in signing a lease and residents in approving or refusing an applicant. \n",
    "\n",
    "Below I explain the steps I took into navigating the project."
   ]
  },
  {
   "cell_type": "markdown",
   "metadata": {},
   "source": [
    "### <font color='blue'> Exploratory Analysis </font> \n",
    "\n",
    "The data includes 180K observation and the following information: \n",
    "\n",
    "* **Channel ID**, assigned to each chat message initiated coresponding to a listing. \n",
    "\n",
    "* **Creation time stamp** corresponding to each sent message.\n",
    "\n",
    "* **Users ID** (the applicants and residents) sending a message. \n",
    "\n",
    "* The role of each **user** (applicant or resident). \n",
    "\n",
    "* The **lease status** corresponding to the message channel initiated for each listing.\n",
    "\n",
    "* **Market** as in the city where the listing is located. \n",
    "\n",
    "* And finally, the **messages**.\n",
    "\n",
    "Through initial exploration of the data set the following observations are made: \n",
    "\n",
    "* Overall, the number of messages exchanged every month is drastically increasing. Meaning more clients are using the application and looking up. However, the number of successful leases shows smaller increase. Meaning that despite larger engagement and usage the outcome of successful leases is not growing at the same speed.  \n",
    "<img src=\"images/message_per_month.png\"/>\n",
    "\n",
    "\n",
    "* More applicants engage and send messages. This could be particularly intresting considering that there are usually more than one resident in each household. Therefore, not all the residents within a household are engaging in the chat messages, while they all should vote on accepting or refusing an applicant. In other words, it could be an indication of lower engagement of residents in the process. \n",
    "<img src=\"images/engagement.png\"/>\n",
    "\n",
    "These two main observations points us in the direction of exploring how the chat messages can improve the ...  \n",
    "\n",
    "> The illustration are produced via [exploratorty and explanatory notebook](). "
   ]
  },
  {
   "cell_type": "markdown",
   "metadata": {},
   "source": [
    "### <font color='blue'> Preprocessing and Feature Engineering </font> \n",
    "\n",
    "\n",
    "The data set is preprocessed to prepare the data for sentiment analysis, and set up features used for machine learning model. In particular:\n",
    "\n",
    "* The response time for each message is quantified, using the time stamps provided for each message. \n",
    "\n",
    "* The text of messages is cleaned up to remove http addresses, new lines, and other notations that are in the text because of ... \n",
    "\n",
    "* The length of conversations is quantified as the number of messages sent. \n",
    "\n",
    "* Messages are numbered based on their order in the conversation.\n",
    "\n",
    "See [preprocessing notebook]() for details. "
   ]
  },
  {
   "cell_type": "markdown",
   "metadata": {},
   "source": [
    "### <font color='blue'> Sentiment Analysis </font> \n",
    "\n",
    "Using natural language processing techniques, the sentiment around each text message is evaluated. \n",
    "\n",
    "In particular, [Stanford CoreNLP API](https://stanfordnlp.github.io/CoreNLP/index.html) sentiment tool is used to extract the sentiment score of each sentence in a message. The Sentiment Annotator of CoreNLP implements [Socher et al.](https://nlp.stanford.edu/~socherr/EMNLP2013_RNTN.pdf)'s sentiment model by attaching a binary tree in the sentence level. The Node of the tree contains the predicted class and scores for that subtree. The current version of the sentiment annotator of CoreNLP includes five score classes: very negative, negative, neutral, positive, and very positive. \n",
    "\n",
    "\n",
    "To record the sentiment scores of text messages, this notebook extracts the probability distribution associated with the 5 score classes (very negative to very positive) for each sentence within a message. A score of -2, -1, 0, 1, 2 is assigned to the 5 classes, and with that, the expected score for each sentence is calculated as: \n",
    "\n",
    "$$ E_i = \\sum_{j=1}^5 P_{i,j}(s) \\times s_{i,j} $$ \n",
    "\n",
    "where $E_{i}$ is expected score corresponding to sentence *i*, and $P_j$ is the probability associated with each score class, $s_j$ in (-2,-1,0,1,2). \n",
    "\n",
    "Ultimately, the frequency of score classes for a text message is calculated by taking the histogram of expected scores of all sentences. Furthermore, The average of expected scores of sentences is calculated to indicate the overall score of a whole text message. \n",
    "\n",
    "Throughout the sentiment analysis, the number of sentences and words within each message is extracted and added to the data frame.\n",
    "\n",
    "> See the [sentiment analysis notebook]() for further information. \n",
    "\n",
    "### <font color='orange'> Implications </font> \n",
    "\n",
    "The distribution of sentiment score of all messages shows a multimodal distribution (figure below), with a pretty dominant peak of neutral messages as expected. Most messages intuitively include unbiased content introducing oneself, exchanging contacts to meet in person, etc. There are two smaller peaks observed at negative and positive scores. These messages could include more signaling content. I took a closer look into the messages that contain a higher ratio of negatively scored sentences. Interestingly, most of these messages had more conflicting content, and a pipeline to identify such messages can be an excellent tool for the company to improve the clients' experience. \n",
    "\n",
    "Filtering the thousands of messages sent via the application each day and flagging a number of highly signaling messages that the customer service unit could process allows the company to identify clients' concerns and therefore be able to address them more effectively. \n",
    "\n",
    "<img src=\"images/sentiment_distribution.png\"/>\n",
    "\n",
    "\n"
   ]
  },
  {
   "cell_type": "markdown",
   "metadata": {},
   "source": [
    "### <font color='blue'> Supervised Machine Learning Model </font> \n",
    "\n",
    "\n",
    "[Scikit Learn Random Forest Classifier](https://scikit-learn.org/stable/modules/generated/sklearn.ensemble.RandomForestClassifier.html) is trained to predict the lease status corresponding to each channel, following the steps below: \n",
    "\n",
    "**Features, observations, and labels:**\n",
    "  - User role (applicant or resident),\n",
    "  - Response time,\n",
    "  - Conversation length,\n",
    "  - Message length,\n",
    "  - Average sentiment score for a text,\n",
    "  - Frequency of sentiment score of all sentences within each message in 5 classes: very negative, negative, neutral, positive, very positive. \n",
    "    \n",
    "The data set includes a total of 180K observations and 10 features. A binary classification is performed to predict the lease status. The  35.31% of conversations correspond to a sucessful lease (same room or another) versus not leasing a room at all (see figure below), and threfore the classes are assumed to be balanced. \n",
    "\n",
    "<img src=\"images/ml_classes.png\"/>\n",
    "\n",
    "The data set is divided into training and testing (90%:10%) sets, manually, in order to assure that messages corresponding to the same channel are kept together within one data set. \n",
    "\n",
    "\n",
    "**Preprocessing**: The categorical featuer, i.e., the user status (applicant or residents), is encoded via [One Hot Encoder algorithm](https://scikit-learn.org/stable/modules/generated/sklearn.preprocessing.OneHotEncoder.html). \n",
    "\n",
    "**Training a classifier**: The hyperparameters are first narrowed down using [Randomized Search Cross Validation](https://scikit-learn.org/stable/modules/generated/sklearn.model_selection.RandomizedSearchCV.html) and further optimized via [Grid Search](https://scikit-learn.org/stable/modules/generated/sklearn.model_selection.GridSearchCV.html) both provided in the python Scikit Learn library. \n",
    "\n",
    "> See [ML model notebook]() for details. \n",
    "\n",
    "### <font color='orange'> Implications </font> \n",
    "\n",
    "The performance of ML model is limited by features that are used in training. There are many other components, other than the chat impression, which can affect (1) the resident's vote on accepting or rejecting an applicant, and (2) the applicant's decision on siging a lease for a room. \n",
    "\n",
    "In future outlook, other features such as (1) the number of maintance tickets submitted via each household, (2) unit price compared to market prices, and (3) the number of available rooms versus total rooms could be included in order to improve the accuracy of the predictions. "
   ]
  }
 ],
 "metadata": {
  "kernelspec": {
   "display_name": "Python 3",
   "language": "python",
   "name": "python3"
  },
  "language_info": {
   "codemirror_mode": {
    "name": "ipython",
    "version": 3
   },
   "file_extension": ".py",
   "mimetype": "text/x-python",
   "name": "python",
   "nbconvert_exporter": "python",
   "pygments_lexer": "ipython3",
   "version": "3.8.5"
  }
 },
 "nbformat": 4,
 "nbformat_minor": 4
}
